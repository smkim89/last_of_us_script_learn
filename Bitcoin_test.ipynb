{
 "cells": [
  {
   "cell_type": "code",
   "execution_count": 3,
   "metadata": {},
   "outputs": [],
   "source": [
    "%matplotlib inline\n",
    "import matplotlib.pyplot as plt\n",
    "import pandas as pd\n",
    "import numpy as np\n",
    "import plotly as py\n",
    "import plotly.graph_objs as go\n",
    "import requests\n",
    "from keras.layers import *\n",
    "from keras.models import *\n",
    "from keras.callbacks import *\n",
    "from datetime import datetime\n",
    "from sklearn.preprocessing import MinMaxScaler\n",
    "plt.style.use('bmh')"
   ]
  },
  {
   "cell_type": "code",
   "execution_count": 5,
   "metadata": {},
   "outputs": [
    {
     "data": {
      "text/plain": [
       "'\\nhttps://poloniex.com/support/api\\nhttps://poloniex.com/public?command=returnChartData&currencyPair=USDT_BTC&start=1405699200&end=9999999999&period=86400\\n'"
      ]
     },
     "execution_count": 5,
     "metadata": {},
     "output_type": "execute_result"
    }
   ],
   "source": [
    "'''\n",
    "https://poloniex.com/support/api\n",
    "https://poloniex.com/public?command=returnChartData&currencyPair=USDT_BTC&start=1405699200&end=9999999999&period=86400\n",
    "'''"
   ]
  },
  {
   "cell_type": "code",
   "execution_count": 6,
   "metadata": {},
   "outputs": [
    {
     "data": {
      "text/plain": [
       "<Response [200]>"
      ]
     },
     "execution_count": 6,
     "metadata": {},
     "output_type": "execute_result"
    }
   ],
   "source": [
    "ret = requests.get('https://poloniex.com/public?command=returnChartData&currencyPair=USDT_BTC&start=1405699200&end=9999999999&period=86400')\n",
    "ret"
   ]
  },
  {
   "cell_type": "code",
   "execution_count": 9,
   "metadata": {},
   "outputs": [
    {
     "data": {
      "text/html": [
       "<div>\n",
       "<style scoped>\n",
       "    .dataframe tbody tr th:only-of-type {\n",
       "        vertical-align: middle;\n",
       "    }\n",
       "\n",
       "    .dataframe tbody tr th {\n",
       "        vertical-align: top;\n",
       "    }\n",
       "\n",
       "    .dataframe thead th {\n",
       "        text-align: right;\n",
       "    }\n",
       "</style>\n",
       "<table border=\"1\" class=\"dataframe\">\n",
       "  <thead>\n",
       "    <tr style=\"text-align: right;\">\n",
       "      <th></th>\n",
       "      <th>date</th>\n",
       "      <th>high</th>\n",
       "      <th>low</th>\n",
       "      <th>open</th>\n",
       "      <th>close</th>\n",
       "      <th>volume</th>\n",
       "      <th>quoteVolume</th>\n",
       "      <th>weightedAverage</th>\n",
       "    </tr>\n",
       "  </thead>\n",
       "  <tbody>\n",
       "    <tr>\n",
       "      <th>0</th>\n",
       "      <td>1424304000</td>\n",
       "      <td>244.000000</td>\n",
       "      <td>225.000000</td>\n",
       "      <td>225.000000</td>\n",
       "      <td>0.003428</td>\n",
       "      <td>4.627631e+01</td>\n",
       "      <td>0.193117</td>\n",
       "      <td>239.627778</td>\n",
       "    </tr>\n",
       "    <tr>\n",
       "      <th>1</th>\n",
       "      <td>1424390400</td>\n",
       "      <td>245.000000</td>\n",
       "      <td>240.250000</td>\n",
       "      <td>240.250118</td>\n",
       "      <td>0.003231</td>\n",
       "      <td>5.589490e+01</td>\n",
       "      <td>0.230429</td>\n",
       "      <td>242.568479</td>\n",
       "    </tr>\n",
       "    <tr>\n",
       "      <th>2</th>\n",
       "      <td>1424476800</td>\n",
       "      <td>245.000000</td>\n",
       "      <td>245.000000</td>\n",
       "      <td>245.000000</td>\n",
       "      <td>0.003480</td>\n",
       "      <td>1.472224e+01</td>\n",
       "      <td>0.060091</td>\n",
       "      <td>245.000000</td>\n",
       "    </tr>\n",
       "    <tr>\n",
       "      <th>3</th>\n",
       "      <td>1424563200</td>\n",
       "      <td>249.000000</td>\n",
       "      <td>235.000000</td>\n",
       "      <td>245.000000</td>\n",
       "      <td>0.002955</td>\n",
       "      <td>1.291212e+02</td>\n",
       "      <td>0.539055</td>\n",
       "      <td>239.532608</td>\n",
       "    </tr>\n",
       "    <tr>\n",
       "      <th>4</th>\n",
       "      <td>1424649600</td>\n",
       "      <td>235.001000</td>\n",
       "      <td>235.000000</td>\n",
       "      <td>235.000002</td>\n",
       "      <td>0.002955</td>\n",
       "      <td>9.656756e+01</td>\n",
       "      <td>0.410926</td>\n",
       "      <td>235.000062</td>\n",
       "    </tr>\n",
       "    <tr>\n",
       "      <th>...</th>\n",
       "      <td>...</td>\n",
       "      <td>...</td>\n",
       "      <td>...</td>\n",
       "      <td>...</td>\n",
       "      <td>...</td>\n",
       "      <td>...</td>\n",
       "      <td>...</td>\n",
       "      <td>...</td>\n",
       "    </tr>\n",
       "    <tr>\n",
       "      <th>1886</th>\n",
       "      <td>1587254400</td>\n",
       "      <td>7263.949781</td>\n",
       "      <td>7055.000000</td>\n",
       "      <td>7249.742401</td>\n",
       "      <td>0.364616</td>\n",
       "      <td>1.335513e+07</td>\n",
       "      <td>1866.966396</td>\n",
       "      <td>7153.384507</td>\n",
       "    </tr>\n",
       "    <tr>\n",
       "      <th>1887</th>\n",
       "      <td>1587340800</td>\n",
       "      <td>7215.454579</td>\n",
       "      <td>6754.986856</td>\n",
       "      <td>7121.346303</td>\n",
       "      <td>0.349208</td>\n",
       "      <td>1.858451e+07</td>\n",
       "      <td>2656.585146</td>\n",
       "      <td>6995.637405</td>\n",
       "    </tr>\n",
       "    <tr>\n",
       "      <th>1888</th>\n",
       "      <td>1587427200</td>\n",
       "      <td>6940.078300</td>\n",
       "      <td>6750.000000</td>\n",
       "      <td>6830.656600</td>\n",
       "      <td>0.349933</td>\n",
       "      <td>1.341686e+07</td>\n",
       "      <td>1958.331865</td>\n",
       "      <td>6851.166753</td>\n",
       "    </tr>\n",
       "    <tr>\n",
       "      <th>1889</th>\n",
       "      <td>1587513600</td>\n",
       "      <td>7151.789008</td>\n",
       "      <td>6819.720025</td>\n",
       "      <td>6842.936459</td>\n",
       "      <td>0.364709</td>\n",
       "      <td>1.450904e+07</td>\n",
       "      <td>2068.616170</td>\n",
       "      <td>7013.886946</td>\n",
       "    </tr>\n",
       "    <tr>\n",
       "      <th>1890</th>\n",
       "      <td>1587600000</td>\n",
       "      <td>7181.141066</td>\n",
       "      <td>7026.310884</td>\n",
       "      <td>7126.024193</td>\n",
       "      <td>0.367269</td>\n",
       "      <td>8.539793e+06</td>\n",
       "      <td>1201.243972</td>\n",
       "      <td>7109.124233</td>\n",
       "    </tr>\n",
       "  </tbody>\n",
       "</table>\n",
       "<p>1891 rows × 8 columns</p>\n",
       "</div>"
      ],
      "text/plain": [
       "            date         high          low         open     close  \\\n",
       "0     1424304000   244.000000   225.000000   225.000000  0.003428   \n",
       "1     1424390400   245.000000   240.250000   240.250118  0.003231   \n",
       "2     1424476800   245.000000   245.000000   245.000000  0.003480   \n",
       "3     1424563200   249.000000   235.000000   245.000000  0.002955   \n",
       "4     1424649600   235.001000   235.000000   235.000002  0.002955   \n",
       "...          ...          ...          ...          ...       ...   \n",
       "1886  1587254400  7263.949781  7055.000000  7249.742401  0.364616   \n",
       "1887  1587340800  7215.454579  6754.986856  7121.346303  0.349208   \n",
       "1888  1587427200  6940.078300  6750.000000  6830.656600  0.349933   \n",
       "1889  1587513600  7151.789008  6819.720025  6842.936459  0.364709   \n",
       "1890  1587600000  7181.141066  7026.310884  7126.024193  0.367269   \n",
       "\n",
       "            volume  quoteVolume  weightedAverage  \n",
       "0     4.627631e+01     0.193117       239.627778  \n",
       "1     5.589490e+01     0.230429       242.568479  \n",
       "2     1.472224e+01     0.060091       245.000000  \n",
       "3     1.291212e+02     0.539055       239.532608  \n",
       "4     9.656756e+01     0.410926       235.000062  \n",
       "...            ...          ...              ...  \n",
       "1886  1.335513e+07  1866.966396      7153.384507  \n",
       "1887  1.858451e+07  2656.585146      6995.637405  \n",
       "1888  1.341686e+07  1958.331865      6851.166753  \n",
       "1889  1.450904e+07  2068.616170      7013.886946  \n",
       "1890  8.539793e+06  1201.243972      7109.124233  \n",
       "\n",
       "[1891 rows x 8 columns]"
      ]
     },
     "execution_count": 9,
     "metadata": {},
     "output_type": "execute_result"
    }
   ],
   "source": [
    "json = ret.json()\n",
    "df = pd.DataFrame(json)\n",
    "\n",
    "scaler = MinMaxScaler()\n",
    "df[['close']] = scaler.fit_transform(df[['close']])\n",
    "# close를 minmaxscaler로 트랜스폼해서 다시 넣어준다.\n",
    "df"
   ]
  },
  {
   "cell_type": "code",
   "execution_count": 14,
   "metadata": {},
   "outputs": [],
   "source": [
    "price = df['close'].values.tolist()\n",
    "#df에서 종가를 가져와서 배열에 때려넣음.\n"
   ]
  },
  {
   "cell_type": "code",
   "execution_count": 19,
   "metadata": {},
   "outputs": [],
   "source": [
    "'''\n",
    "Many to many\n",
    "X\n",
    " 0.0034278368698297933,\n",
    " 0.0032309273586996947,\n",
    " 0.0034803460727978203,\n",
    "Y\n",
    " 0.0029552540431175573,\n",
    " 0.0029552540431175573,\n",
    "Many to one\n",
    "(batch, 5,1)\n",
    "X\n",
    " 0.0034278368698297933,\n",
    " 0.0032309273586996947,\n",
    " 0.0034803460727978203,\n",
    " 0.0029552540431175573,\n",
    " 0.0029552540431175573,\n",
    "Y\n",
    "(batch, 1)\n",
    " 0.003204672757215681,\n",
    "(그 다음값.)\n",
    "\n",
    "'''\n",
    "\n",
    "window_size = 5\n",
    "X = []\n",
    "Y = []\n",
    "for i in range(len(price)- window_size):\n",
    "    # i = 0\n",
    "    # j = 0,1,2,3,4\n",
    "    X.append([price[i+j] for j in range(window_size)])\n",
    "    Y.append(price[window_size+i])\n"
   ]
  },
  {
   "cell_type": "code",
   "execution_count": 22,
   "metadata": {},
   "outputs": [
    {
     "name": "stdout",
     "output_type": "stream",
     "text": [
      "[[0.00342784 0.00323093 0.00348035 0.00295525 0.00295525]\n",
      " [0.00323093 0.00348035 0.00295525 0.00295525 0.00320467]\n",
      " [0.00348035 0.00295525 0.00295525 0.00320467 0.00309965]\n",
      " ...\n",
      " [0.36358689 0.35964887 0.37127475 0.36461633 0.34920784]\n",
      " [0.35964887 0.37127475 0.36461633 0.34920784 0.34993273]\n",
      " [0.37127475 0.36461633 0.34920784 0.34993273 0.36470923]]\n",
      "[0.00320467 0.00309965 0.00313904 ... 0.34993273 0.36470923 0.36726909]\n"
     ]
    }
   ],
   "source": [
    "X = np.asarray(X)\n",
    "Y = np.asarray(Y)\n",
    "\n",
    "print(X)\n",
    "print(Y)"
   ]
  },
  {
   "cell_type": "code",
   "execution_count": 23,
   "metadata": {},
   "outputs": [
    {
     "data": {
      "text/plain": [
       "(1886, 5)"
      ]
     },
     "execution_count": 23,
     "metadata": {},
     "output_type": "execute_result"
    }
   ],
   "source": [
    "X.shape"
   ]
  },
  {
   "cell_type": "code",
   "execution_count": 24,
   "metadata": {},
   "outputs": [
    {
     "data": {
      "text/plain": [
       "(1886,)"
      ]
     },
     "execution_count": 24,
     "metadata": {},
     "output_type": "execute_result"
    }
   ],
   "source": [
    "Y.shape"
   ]
  },
  {
   "cell_type": "code",
   "execution_count": 26,
   "metadata": {},
   "outputs": [],
   "source": [
    "train_test_split = 1700\n",
    "# 첫번째 행부터 1000번째까지 자른다. 두번째 파람 : 는 전체를 의미한다.\n",
    "X_train = X[:train_test_split,:]\n",
    "Y_train = Y[:train_test_split]\n",
    "# 1000번째 부터. 두번째 파람 : 는 전체를 의미한다.\n",
    "X_test = X[train_test_split:,:]\n",
    "Y_test = Y[train_test_split:]"
   ]
  },
  {
   "cell_type": "code",
   "execution_count": 27,
   "metadata": {},
   "outputs": [
    {
     "data": {
      "text/plain": [
       "(1700,)"
      ]
     },
     "execution_count": 27,
     "metadata": {},
     "output_type": "execute_result"
    }
   ],
   "source": [
    "Y_train.shape"
   ]
  },
  {
   "cell_type": "code",
   "execution_count": 28,
   "metadata": {},
   "outputs": [
    {
     "data": {
      "text/plain": [
       "(1700, 5)"
      ]
     },
     "execution_count": 28,
     "metadata": {},
     "output_type": "execute_result"
    }
   ],
   "source": [
    "X_train.shape"
   ]
  },
  {
   "cell_type": "code",
   "execution_count": 29,
   "metadata": {},
   "outputs": [
    {
     "data": {
      "text/plain": [
       "(186, 5)"
      ]
     },
     "execution_count": 29,
     "metadata": {},
     "output_type": "execute_result"
    }
   ],
   "source": [
    "X_test.shape"
   ]
  },
  {
   "cell_type": "code",
   "execution_count": 30,
   "metadata": {},
   "outputs": [
    {
     "data": {
      "text/plain": [
       "(186,)"
      ]
     },
     "execution_count": 30,
     "metadata": {},
     "output_type": "execute_result"
    }
   ],
   "source": [
    "Y_test.shape"
   ]
  },
  {
   "cell_type": "code",
   "execution_count": 31,
   "metadata": {},
   "outputs": [
    {
     "data": {
      "text/plain": [
       "array([[0.00342784],\n",
       "       [0.00323093],\n",
       "       [0.00348035],\n",
       "       [0.00295525],\n",
       "       [0.00295525]])"
      ]
     },
     "execution_count": 31,
     "metadata": {},
     "output_type": "execute_result"
    }
   ],
   "source": [
    "X_train = np.reshape(X_train, (X_train.shape[0], window_size, 1))\n",
    "X_test = np.reshape(X_test, (X_test.shape[0], window_size, 1))\n",
    "\n",
    "X_train[0]"
   ]
  },
  {
   "cell_type": "code",
   "execution_count": 32,
   "metadata": {},
   "outputs": [
    {
     "data": {
      "text/plain": [
       "(1700, 5, 1)"
      ]
     },
     "execution_count": 32,
     "metadata": {},
     "output_type": "execute_result"
    }
   ],
   "source": [
    "X_train.shape"
   ]
  },
  {
   "cell_type": "code",
   "execution_count": 57,
   "metadata": {},
   "outputs": [
    {
     "name": "stdout",
     "output_type": "stream",
     "text": [
      "Model: \"sequential_7\"\n",
      "_________________________________________________________________\n",
      "Layer (type)                 Output Shape              Param #   \n",
      "=================================================================\n",
      "lstm_4 (LSTM)                (None, 128)               66560     \n",
      "_________________________________________________________________\n",
      "dropout_2 (Dropout)          (None, 128)               0         \n",
      "_________________________________________________________________\n",
      "dense_2 (Dense)              (None, 1)                 129       \n",
      "=================================================================\n",
      "Total params: 66,689\n",
      "Trainable params: 66,689\n",
      "Non-trainable params: 0\n",
      "_________________________________________________________________\n"
     ]
    }
   ],
   "source": [
    "model = Sequential()\n",
    "model.add(LSTM(128, input_shape=(5,1,)))\n",
    "model.add(Dropout(0,2))\n",
    "model.add(Dense(1, activation='linear'))\n",
    "model.compile(loss='mse', optimizer='adam')\n",
    "model.summary()"
   ]
  },
  {
   "cell_type": "code",
   "execution_count": 58,
   "metadata": {},
   "outputs": [
    {
     "name": "stdout",
     "output_type": "stream",
     "text": [
      "Epoch 1/20\n",
      "1700/1700 [==============================] - 5s 3ms/step - loss: 0.0015\n",
      "Epoch 2/20\n",
      "1700/1700 [==============================] - 5s 3ms/step - loss: 8.0323e-04\n",
      "Epoch 3/20\n",
      "1700/1700 [==============================] - 5s 3ms/step - loss: 6.3737e-04\n",
      "Epoch 4/20\n",
      "1700/1700 [==============================] - 5s 3ms/step - loss: 5.3461e-04\n",
      "Epoch 5/20\n",
      "1700/1700 [==============================] - 5s 3ms/step - loss: 4.1545e-04\n",
      "Epoch 6/20\n",
      "1700/1700 [==============================] - 5s 3ms/step - loss: 3.6035e-04\n",
      "Epoch 7/20\n",
      "1700/1700 [==============================] - 5s 3ms/step - loss: 3.8988e-04\n",
      "Epoch 8/20\n",
      "1700/1700 [==============================] - 5s 3ms/step - loss: 3.7005e-04\n",
      "Epoch 9/20\n",
      "1700/1700 [==============================] - 5s 3ms/step - loss: 3.4207e-04\n",
      "Epoch 10/20\n",
      "1700/1700 [==============================] - 5s 3ms/step - loss: 3.9258e-04\n",
      "Epoch 11/20\n",
      "1700/1700 [==============================] - 5s 3ms/step - loss: 3.3115e-04\n",
      "Epoch 12/20\n",
      "1700/1700 [==============================] - 5s 3ms/step - loss: 3.2187e-04\n",
      "Epoch 13/20\n",
      "1700/1700 [==============================] - 5s 3ms/step - loss: 3.5401e-04\n",
      "Epoch 14/20\n",
      "1700/1700 [==============================] - 5s 3ms/step - loss: 3.2718e-04\n",
      "Epoch 15/20\n",
      "1700/1700 [==============================] - 5s 3ms/step - loss: 3.2091e-04\n",
      "Epoch 16/20\n",
      "1700/1700 [==============================] - 5s 3ms/step - loss: 3.1330e-04\n",
      "Epoch 17/20\n",
      "1700/1700 [==============================] - 5s 3ms/step - loss: 3.0639e-04\n",
      "Epoch 18/20\n",
      "1700/1700 [==============================] - 5s 3ms/step - loss: 2.9955e-04\n",
      "Epoch 19/20\n",
      "1700/1700 [==============================] - 5s 3ms/step - loss: 3.3149e-04\n",
      "Epoch 20/20\n",
      "1700/1700 [==============================] - 5s 3ms/step - loss: 3.0966e-04\n"
     ]
    },
    {
     "data": {
      "text/plain": [
       "<keras.callbacks.callbacks.History at 0x2c253d83648>"
      ]
     },
     "execution_count": 58,
     "metadata": {},
     "output_type": "execute_result"
    }
   ],
   "source": [
    "model.fit(X_train, Y_train, epochs=20, batch_size=1,)"
   ]
  },
  {
   "cell_type": "code",
   "execution_count": 59,
   "metadata": {},
   "outputs": [],
   "source": [
    "train_prdeict = model.predict(X_train)\n",
    "test_predict = model.predict(X_test)\n"
   ]
  },
  {
   "cell_type": "code",
   "execution_count": 61,
   "metadata": {},
   "outputs": [
    {
     "data": {
      "text/plain": [
       "[<matplotlib.lines.Line2D at 0x2c25412cdc8>]"
      ]
     },
     "execution_count": 61,
     "metadata": {},
     "output_type": "execute_result"
    },
    {
     "data": {
      "image/png": "[encoded data removed]",
      "text/plain": [
       "<Figure size 1440x720 with 1 Axes>"
      ]
     },
     "metadata": {
      "needs_background": "light"
     },
     "output_type": "display_data"
    }
   ],
   "source": [
    "plt.figure(figsize=(20,10))\n",
    "plt.plot(price)\n",
    "\n",
    "split_pt = train_test_split + window_size\n",
    "plt.plot(np.arange(window_size, split_pt, 1), train_prdeict, color='g')\n",
    "\n",
    "plt.plot(np.arange(split_pt, split_pt+len(test_predict), 1), test_predict, color = 'r')"
   ]
  },
  {
   "cell_type": "code",
   "execution_count": 63,
   "metadata": {},
   "outputs": [
    {
     "data": {
      "text/plain": [
       "'temp-plot.html'"
      ]
     },
     "execution_count": 63,
     "metadata": {},
     "output_type": "execute_result"
    }
   ],
   "source": [
    "\n",
    "\n",
    "trace = go.Scatter(x=np.arange(window_size, split_pt, 1), y=train_prdeict.reshape(1700), mode='lines', name = 'train')\n",
    "trace2 = go.Scatter(x=np.arange(split_pt, split_pt+len(test_predict), 1), y=test_predict.reshape(186), mode='lines', name = 'test')\n",
    "trace3 = go.Scatter(x=np.arange(1, len(price), 1), y=price, mode='lines', name = 'original')\n",
    "\n",
    "data = [trace, trace2, trace3]\n",
    "py.offline.plot(data)"
   ]
  },
  {
   "cell_type": "code",
   "execution_count": null,
   "metadata": {},
   "outputs": [],
   "source": []
  }
 ],
 "metadata": {
  "kernelspec": {
   "display_name": "Python 3",
   "language": "python",
   "name": "python3"
  },
  "language_info": {
   "codemirror_mode": {
    "name": "ipython",
    "version": 3
   },
   "file_extension": ".py",
   "mimetype": "text/x-python",
   "name": "python",
   "nbconvert_exporter": "python",
   "pygments_lexer": "ipython3",
   "version": "3.7.7"
  }
 },
 "nbformat": 4,
 "nbformat_minor": 4
}
